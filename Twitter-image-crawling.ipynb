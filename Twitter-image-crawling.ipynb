{
 "cells": [
  {
   "cell_type": "code",
   "execution_count": 4,
   "id": "30a98d2c",
   "metadata": {},
   "outputs": [
    {
     "name": "stdout",
     "output_type": "stream",
     "text": [
      "210817 (#아린)의 스크롤 끝까지, 모든 img_url을 얻었습니다\n",
      "210817 (#아린)의 image 41개를 저장했습니다.\n"
     ]
    }
   ],
   "source": [
    "# 환경 : 일단 twitter에 로그인하고,\n",
    "# location == Korea, laguage == korean으로 설정 후 진행하였음.\n",
    "\n",
    "from selenium import webdriver\n",
    "from selenium.webdriver.common.keys import Keys\n",
    "from bs4 import BeautifulSoup\n",
    "import time\n",
    "import os\n",
    "import requests\n",
    "\n",
    "## variables\n",
    "img_url_set = set()\n",
    "# name = ''\n",
    "# date = 000000 # 이거 스트링 타입으로 바꾸자. 입력을 스트링으로 받게...\n",
    "\n",
    "## functions\n",
    "def search_input():\n",
    "    name = \"아린\" # 나중에 그룹명 입력하면 for name(member) in group 돌릴거임\n",
    "    date = 210817 # 나중에 날짜 구간 설정해서 for문 쭈루룩 돌릴거임\n",
    "    return name, date\n",
    "\n",
    "def download_img(img_folder, img_url):\n",
    "    html_img = requests.get(img_url)\n",
    "    # os.path.basename(URL)은 웹사이트나 폴더가 포함된 파일명에서 파일명만 분리, join()은 합치기\n",
    "    imgFile = open(os.path.join(img_folder, os.path.basename(img_url)[:15] + '.jpg'), 'wb')        \n",
    "    chunk_size = 1000000 # 이미지 데이터를 1000000bytes씩 나눠서 저장\n",
    "    for chunk in html_img.iter_content(chunk_size):\n",
    "        imgFile.write(chunk)\n",
    "    imgFile.close()\n",
    "\n",
    "def add_img_url():\n",
    "    global img_url_set\n",
    "    html = driver.page_source\n",
    "    soup = BeautifulSoup(html, 'lxml')\n",
    "    img_tags = soup.select('.css-9pa8cd[alt=\"이미지\"]')\n",
    "    for img_tag in img_tags:\n",
    "        img_url_set.add(img_tag['src'].replace('small', 'orig'))\n",
    "        \n",
    "def add_img_url_with_scroll():\n",
    "    global img_url_set\n",
    "    last_height = -2\n",
    "    new_height = -1\n",
    "    driver.execute_script(\"i = 1;\")\n",
    "    while (new_height != last_height):\n",
    "        last_height = driver.execute_script(\"return document.body.scrollHeight\")\n",
    "        add_img_url()\n",
    "        driver.execute_script(\"window.scrollTo(0, i * 4000); i += 1;\")\n",
    "        time.sleep(1)\n",
    "        new_height = driver.execute_script(\"return document.body.scrollHeight\")\n",
    "\n",
    "def make_folder(name, date):\n",
    "    img_folder = \"C:\\\\Users\\\\2020\\\\Twitter_image\\\\{}\\\\{}\".format(name, date)\n",
    "    if not os.path.exists(img_folder):\n",
    "        os.makedirs(img_folder)\n",
    "    return img_folder\n",
    "\n",
    "def main():\n",
    "    global img_url_set\n",
    "    \n",
    "    name, date = search_input()\n",
    "    \n",
    "    driver.get('https://twitter.com/search?q=' + str(date) + '%20(%23' + name + ')&src=typed_query&f=image')\n",
    "    time.sleep(10)\n",
    "\n",
    "    add_img_url_with_scroll()\n",
    "    print(str(date), \"(#\" + name + \")의\", '스크롤 끝까지, 모든 img_url을 얻었습니다')\n",
    "\n",
    "    img_folder = make_folder(name, date)\n",
    "\n",
    "    for img_url in img_url_set:\n",
    "        download_img(img_folder, img_url)\n",
    "        time.sleep(1)\n",
    "    print(str(date), \"(#\" + name + \")의\", \"image {}개를 저장했습니다.\".format(len(img_url_set)))\n",
    "    img_url_set = []\n",
    "    \n",
    "## main\n",
    "driver = webdriver.Chrome('C:\\\\Users\\\\2020\\\\chromedriver\\\\chromedriver.exe')\n",
    "driver.set_window_size(1700, 1000)\n",
    "\n",
    "if __name__ == \"__main__\":\n",
    "    main()\n",
    "\n"
   ]
  },
  {
   "cell_type": "code",
   "execution_count": 2,
   "id": "6a7fa2b6",
   "metadata": {},
   "outputs": [
    {
     "data": {
      "text/plain": [
       "41"
      ]
     },
     "execution_count": 2,
     "metadata": {},
     "output_type": "execute_result"
    }
   ],
   "source": [
    "len(img_url_set)"
   ]
  },
  {
   "cell_type": "code",
   "execution_count": 3,
   "id": "f3889f43",
   "metadata": {},
   "outputs": [
    {
     "data": {
      "text/plain": [
       "{'https://pbs.twimg.com/media/E8-ZxB7VgAIUoot?format=jpg&name=orig',\n",
       " 'https://pbs.twimg.com/media/E8-ZxCIVkAIF-6b?format=jpg&name=orig',\n",
       " 'https://pbs.twimg.com/media/E8-ZxCNVUAAyPsY?format=jpg&name=orig',\n",
       " 'https://pbs.twimg.com/media/E8-ZxCVVcAUSI0t?format=jpg&name=orig',\n",
       " 'https://pbs.twimg.com/media/E8-bh-XVkAEcDPY?format=jpg&name=orig',\n",
       " 'https://pbs.twimg.com/media/E8-bhudUYAc-e27?format=jpg&name=orig',\n",
       " 'https://pbs.twimg.com/media/E8-bi5OVIAEgKyz?format=jpg&name=orig',\n",
       " 'https://pbs.twimg.com/media/E8-biSbUcAAjmo5?format=jpg&name=orig',\n",
       " 'https://pbs.twimg.com/media/E8-bigqVgAAaQCO?format=jpg&name=orig',\n",
       " 'https://pbs.twimg.com/media/E8-bjJfVkAE4OB7?format=jpg&name=orig',\n",
       " 'https://pbs.twimg.com/media/E8-bjdIVgAEclFI?format=jpg&name=orig',\n",
       " 'https://pbs.twimg.com/media/E8-bjvdUcAIxtEi?format=jpg&name=orig',\n",
       " 'https://pbs.twimg.com/media/E8-bk0oVoAEUvln?format=jpg&name=orig',\n",
       " 'https://pbs.twimg.com/media/E8-bkLsVIAISa76?format=jpg&name=orig',\n",
       " 'https://pbs.twimg.com/media/E8-bkbtVcAE3cSP?format=jpg&name=orig',\n",
       " 'https://pbs.twimg.com/media/E8-bkokVkAE2jFC?format=jpg&name=orig',\n",
       " 'https://pbs.twimg.com/media/E8-cftiVIAAfd4A?format=jpg&name=orig',\n",
       " 'https://pbs.twimg.com/media/E8-cftlVEAQ3FbA?format=jpg&name=orig',\n",
       " 'https://pbs.twimg.com/media/E8-dzhEVcAwu1zi?format=jpg&name=orig',\n",
       " 'https://pbs.twimg.com/media/E8-dzhEVkAIIjWC?format=jpg&name=orig',\n",
       " 'https://pbs.twimg.com/media/E8-dzhFUcAAwS33?format=jpg&name=orig',\n",
       " 'https://pbs.twimg.com/media/E8-dzhLVgAMc0j4?format=jpg&name=orig',\n",
       " 'https://pbs.twimg.com/media/E8-fz_2UUAAkrRX?format=jpg&name=orig',\n",
       " 'https://pbs.twimg.com/media/E8-fz_2UYAEF78V?format=jpg&name=orig',\n",
       " 'https://pbs.twimg.com/media/E8-fz_3UcAINuF6?format=jpg&name=orig',\n",
       " 'https://pbs.twimg.com/media/E8-fz_6VkAM3uCM?format=jpg&name=orig',\n",
       " 'https://pbs.twimg.com/media/E8-ji7rVUAI92Ly?format=jpg&name=orig',\n",
       " 'https://pbs.twimg.com/media/E8-jj3pVIAMVOx7?format=jpg&name=orig',\n",
       " 'https://pbs.twimg.com/media/E8-jjNJVEAYmOwp?format=jpg&name=orig',\n",
       " 'https://pbs.twimg.com/media/E8-jjeUVEAQWAp-?format=jpg&name=360x360',\n",
       " 'https://pbs.twimg.com/media/E8-jk3RUUAM-3Dt?format=jpg&name=orig',\n",
       " 'https://pbs.twimg.com/media/E8-jkFAVIAc_YrD?format=jpg&name=orig',\n",
       " 'https://pbs.twimg.com/media/E8-jkRIVIAMehcc?format=jpg&name=orig',\n",
       " 'https://pbs.twimg.com/media/E8-jlGhVEAMy4yb?format=jpg&name=360x360',\n",
       " 'https://pbs.twimg.com/media/E8-jlX5VkAMrnd7?format=jpg&name=360x360',\n",
       " 'https://pbs.twimg.com/media/E87Q8rKVEAM0PRT?format=jpg&name=orig',\n",
       " 'https://pbs.twimg.com/media/E87Q8rLVIAg2GCI?format=jpg&name=orig',\n",
       " 'https://pbs.twimg.com/media/E87Q8rLVkAE3Nyn?format=jpg&name=orig',\n",
       " 'https://pbs.twimg.com/media/E8_buC-VkAYdFf6?format=jpg&name=orig',\n",
       " 'https://pbs.twimg.com/media/E8_buC-VoBII7tr?format=jpg&name=orig',\n",
       " 'https://pbs.twimg.com/media/E8_buC_VEAUpann?format=jpg&name=orig'}"
      ]
     },
     "execution_count": 3,
     "metadata": {},
     "output_type": "execute_result"
    }
   ],
   "source": [
    "img_url_set"
   ]
  },
  {
   "cell_type": "code",
   "execution_count": null,
   "id": "9ef94580",
   "metadata": {},
   "outputs": [],
   "source": []
  }
 ],
 "metadata": {
  "kernelspec": {
   "display_name": "Python 3",
   "language": "python",
   "name": "python3"
  },
  "language_info": {
   "codemirror_mode": {
    "name": "ipython",
    "version": 3
   },
   "file_extension": ".py",
   "mimetype": "text/x-python",
   "name": "python",
   "nbconvert_exporter": "python",
   "pygments_lexer": "ipython3",
   "version": "3.8.8"
  }
 },
 "nbformat": 4,
 "nbformat_minor": 5
}
