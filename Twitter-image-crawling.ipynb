{
 "cells": [
  {
   "cell_type": "code",
   "execution_count": null,
   "id": "88beeb62",
   "metadata": {},
   "outputs": [
    {
     "name": "stdout",
     "output_type": "stream",
     "text": [
      "210101 (#오마이걸)의 스크롤 끝까지, 모든 img_url을 얻었습니다.\n"
     ]
    }
   ],
   "source": [
    "# 환경 : 일단 twitter에 로그인하고,\n",
    "# location == Korea, laguage == korean으로 설정 후 진행하였음.\n",
    "\n",
    "from selenium import webdriver\n",
    "from selenium.webdriver.common.keys import Keys\n",
    "from bs4 import BeautifulSoup\n",
    "import time\n",
    "import os\n",
    "import requests\n",
    "\n",
    "## variables\n",
    "img_url_set = set()\n",
    "# name = ''\n",
    "# date = 000000 # 이거 스트링 타입으로 바꾸자. 입력을 스트링으로 받게...\n",
    "\n",
    "## functions\n",
    "\n",
    "\n",
    "\n",
    "def search_input():\n",
    "    name = \"오마이걸\" # 나중에 그룹명 입력하면 for name(member) in group 돌릴거임\n",
    "    date1 = 210101 # 나중에 날짜 구간 설정해서 for문 쭈루룩 돌릴거임\n",
    "    date2 = 210201\n",
    "    return name, date1, date2\n",
    "\n",
    "def download_img(img_folder, img_url):\n",
    "    html_img = requests.get(img_url)\n",
    "    # os.path.basename(URL)은 웹사이트나 폴더가 포함된 파일명에서 파일명만 분리, join()은 합치기\n",
    "    imgFile = open(os.path.join(img_folder, os.path.basename(img_url)[:15] + '.jpg'), 'wb')        \n",
    "    chunk_size = 1000000 # 이미지 데이터를 1000000bytes씩 나눠서 저장\n",
    "    for chunk in html_img.iter_content(chunk_size):\n",
    "        imgFile.write(chunk)\n",
    "    imgFile.close()\n",
    "\n",
    "def add_img_url():\n",
    "    global img_url_set\n",
    "    html = driver.page_source\n",
    "    soup = BeautifulSoup(html, 'lxml')\n",
    "    img_tags = soup.select('.css-9pa8cd[alt=\"이미지\"]')\n",
    "    for img_tag in img_tags:\n",
    "        img_url_set.add(img_tag['src'].replace('small', 'orig'))\n",
    "        \n",
    "def add_img_url_with_scroll():\n",
    "    global img_url_set\n",
    "    last_height = -2\n",
    "    new_height = -1\n",
    "    driver.execute_script(\"i = 1;\")\n",
    "    while (new_height != last_height):\n",
    "        last_height = driver.execute_script(\"return document.body.scrollHeight\")\n",
    "        add_img_url()\n",
    "        driver.execute_script(\"window.scrollTo(0, i * 4000); i += 1;\")\n",
    "        time.sleep(1)\n",
    "        new_height = driver.execute_script(\"return document.body.scrollHeight\")\n",
    "\n",
    "def make_folder(name, date):\n",
    "    img_folder = \"C:\\\\Users\\\\2020\\\\Twitter_image\\\\{}\\\\{}\".format(name, date)\n",
    "    if not os.path.exists(img_folder):\n",
    "        os.makedirs(img_folder)\n",
    "    return img_folder\n",
    "\n",
    "def main():\n",
    "    global img_url_set\n",
    "    \n",
    "    name, date1, date2 = search_input()\n",
    "    \n",
    "    while (date1 <= date2):\n",
    "        driver.get('https://twitter.com/search?q=' + str(date1) + '%20(%23' + name + ')&src=typed_query&f=image')\n",
    "        time.sleep(10)\n",
    "\n",
    "        add_img_url_with_scroll()\n",
    "        print(str(date1), \"(#\" + name + \")의\", '스크롤 끝까지, 모든 img_url을 얻었습니다.')\n",
    "\n",
    "        img_folder = make_folder(name, date1)\n",
    "\n",
    "        for img_url in img_url_set:\n",
    "            download_img(img_folder, img_url)\n",
    "            time.sleep(1)\n",
    "        print(str(date1), \"(#\" + name + \")의\", \"image {}개를 저장했습니다.\".format(len(img_url_set)))\n",
    "        \n",
    "        img_url_set = []\n",
    "        date1 += 1\n",
    "    \n",
    "## main\n",
    "driver = webdriver.Chrome('C:\\\\Users\\\\2020\\\\chromedriver\\\\chromedriver.exe')\n",
    "driver.set_window_size(1700, 1000)\n",
    "\n",
    "if __name__ == \"__main__\":\n",
    "    main()\n",
    "\n"
   ]
  },
  {
   "cell_type": "code",
   "execution_count": 6,
   "id": "0a5c3d23",
   "metadata": {},
   "outputs": [
    {
     "data": {
      "text/plain": [
       "0"
      ]
     },
     "execution_count": 6,
     "metadata": {},
     "output_type": "execute_result"
    }
   ],
   "source": [
    "len(img_url_set)"
   ]
  },
  {
   "cell_type": "code",
   "execution_count": 7,
   "id": "7c6daabe",
   "metadata": {},
   "outputs": [
    {
     "data": {
      "text/plain": [
       "[]"
      ]
     },
     "execution_count": 7,
     "metadata": {},
     "output_type": "execute_result"
    }
   ],
   "source": [
    "img_url_set"
   ]
  },
  {
   "cell_type": "code",
   "execution_count": null,
   "id": "7ff2ab23",
   "metadata": {},
   "outputs": [],
   "source": []
  }
 ],
 "metadata": {
  "kernelspec": {
   "display_name": "Python 3",
   "language": "python",
   "name": "python3"
  },
  "language_info": {
   "codemirror_mode": {
    "name": "ipython",
    "version": 3
   },
   "file_extension": ".py",
   "mimetype": "text/x-python",
   "name": "python",
   "nbconvert_exporter": "python",
   "pygments_lexer": "ipython3",
   "version": "3.8.8"
  }
 },
 "nbformat": 4,
 "nbformat_minor": 5
}
