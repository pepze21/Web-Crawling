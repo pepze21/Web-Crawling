{
 "cells": [
  {
   "cell_type": "code",
   "execution_count": null,
   "id": "9bd91796",
   "metadata": {},
   "outputs": [],
   "source": []
  },
  {
   "cell_type": "code",
   "execution_count": null,
   "id": "39821417",
   "metadata": {},
   "outputs": [],
   "source": [
    "import requests\n",
    "from bs4 import BeautifulSoup\n",
    "import pandas as pd\n",
    "\n",
    "\n",
    "url = \"https://search.naver.com/search.naver?where=nexearch&sm=top_hty&fbm=1&ie=utf8&query=%EB%B8%94%EB%9E%99%ED%95%91%ED%81%AC\"\n",
    "\n",
    "html = requests.get(url).text\n",
    "soup = BeautifulSoup(html, \"lxml\")\n",
    "\n",
    "# group명을 입력하면\n",
    "# naver에서 검색해서\n",
    "# 멤버들의 이름을 수집\n",
    "\n",
    "#구글에서 데뷔일도 수집(검색시작 시점)\n",
    "\n",
    "\n",
    "\n",
    "#여기에 수집된 데이터들을 참조하여,\n",
    "#이 데이터가 포함된 검색 속도를 극대화할 것(캐시, 해시, 우선순위)"
   ]
  },
  {
   "cell_type": "code",
   "execution_count": null,
   "id": "f6b1e791",
   "metadata": {},
   "outputs": [],
   "source": []
  },
  {
   "cell_type": "code",
   "execution_count": null,
   "id": "37cdd839",
   "metadata": {},
   "outputs": [],
   "source": []
  },
  {
   "cell_type": "code",
   "execution_count": null,
   "id": "3b9f3a99",
   "metadata": {},
   "outputs": [],
   "source": []
  }
 ],
 "metadata": {
  "kernelspec": {
   "display_name": "Python 3",
   "language": "python",
   "name": "python3"
  },
  "language_info": {
   "codemirror_mode": {
    "name": "ipython",
    "version": 3
   },
   "file_extension": ".py",
   "mimetype": "text/x-python",
   "name": "python",
   "nbconvert_exporter": "python",
   "pygments_lexer": "ipython3",
   "version": "3.8.8"
  }
 },
 "nbformat": 4,
 "nbformat_minor": 5
}
